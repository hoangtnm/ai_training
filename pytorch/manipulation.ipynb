{
 "cells": [
  {
   "cell_type": "markdown",
   "metadata": {},
   "source": [
    "# Manipulation\n",
    "----\n",
    "\n",
    "[Source: Manipulation](https://www.tutorialspoint.com/numpy/numpy_array_manipulation.htm)"
   ]
  },
  {
   "cell_type": "markdown",
   "metadata": {},
   "source": [
    "## I. Change the tensor's size"
   ]
  },
  {
   "cell_type": "markdown",
   "metadata": {},
   "source": [
    "### 1. view()\n",
    "\n",
    "Returns the tensor which as changed size"
   ]
  },
  {
   "cell_type": "code",
   "execution_count": null,
   "metadata": {},
   "outputs": [],
   "source": [
    "import torch"
   ]
  },
  {
   "cell_type": "code",
   "execution_count": null,
   "metadata": {},
   "outputs": [],
   "source": [
    "numbers_2D = torch.tensor([\n",
    "    [1, 2, 3, 4],\n",
    "    [5, 6, 7, 8]\n",
    "])"
   ]
  },
  {
   "cell_type": "code",
   "execution_count": null,
   "metadata": {},
   "outputs": [],
   "source": [
    "numbers_2D.size()"
   ]
  },
  {
   "cell_type": "markdown",
   "metadata": {},
   "source": [
    "Returns the tensor with 3 dimensions (2, 2, 2) from 2D Tensor (2, 4)"
   ]
  },
  {
   "cell_type": "code",
   "execution_count": null,
   "metadata": {},
   "outputs": [],
   "source": [
    "numbers_3D = numbers_2D.view(2, 2, 2)"
   ]
  },
  {
   "cell_type": "code",
   "execution_count": null,
   "metadata": {},
   "outputs": [],
   "source": [
    "numbers_3D"
   ]
  },
  {
   "cell_type": "code",
   "execution_count": null,
   "metadata": {},
   "outputs": [],
   "source": [
    "numbers_3D.size()"
   ]
  },
  {
   "cell_type": "markdown",
   "metadata": {},
   "source": [
    "##### 2. flatten()\n",
    "\n",
    "Returns the tensor with 1 dimension"
   ]
  },
  {
   "cell_type": "code",
   "execution_count": null,
   "metadata": {},
   "outputs": [],
   "source": [
    "numbers = torch.rand(3, 3, 3)"
   ]
  },
  {
   "cell_type": "code",
   "execution_count": null,
   "metadata": {},
   "outputs": [],
   "source": [
    "numbers"
   ]
  },
  {
   "cell_type": "code",
   "execution_count": null,
   "metadata": {},
   "outputs": [],
   "source": [
    "numbers.size()"
   ]
  },
  {
   "cell_type": "code",
   "execution_count": null,
   "metadata": {},
   "outputs": [],
   "source": [
    "flattened_numbers = numbers.flatten()"
   ]
  },
  {
   "cell_type": "code",
   "execution_count": null,
   "metadata": {},
   "outputs": [],
   "source": [
    "flattened_numbers.size()"
   ]
  },
  {
   "cell_type": "markdown",
   "metadata": {},
   "source": [
    "## II. Transpose"
   ]
  },
  {
   "cell_type": "markdown",
   "metadata": {},
   "source": [
    "![transpose](https://lh3.googleusercontent.com/9a1m0a1kozsZtPgffI2fAsgm2nnRymGYVgp3EXjXnHTZqBe-O5IT-WLT4N1r_2HsK_vP16ssazkAQvmh4ccv1-rMCZDA5f1llpvkqZFC7_ZFmNpVXXNkKHhenen0DXfzS1NqauBRiThtxxrnqvs6DjiHNv3o6z9QPOTuq19cWz9TBU2mkJKEMihglnKdKlNJa2l05WeBmJwAcpjwSQft5jlrn6kr9X782n9jPuC32pE7SOtIEzVSdV_DoRZMonrOnRRGsiz1bJFSumC9gaAaTx-kqGQbf6sKU3avjzNe6Elyg36MkwEfWAbCR9kMGXZ9shkgh41ymTLCNfqsqWuX2DrcfXbwNCjwj17IHeAeITYJoIP-W1lEk0yC7faQUmUh_OSpxG2Km5GFVQQxEj1SeNOW-k0jLyzjYuoyhLX3AGEYaHuDk81a4_HFRpg9fAD6aOGkQHNPghQrA2BQW9FgFK3pL6JDqtbuGQd9mz-KIjHSDTBm1OpQwxXMAnfYr6V0Jq4fULBKCCd96IZC_eJRxIFY_Za_cegK7FYIla9s7ggBg_n7zlAF7V9-BFJcZ9eVl6-_8UhUT20xdSkWERnqwtGwiikEDf5mbzg9iNjktPswaqqd3Y-JupOCH8KdLF5MgXAhexeb6SlWAuu55gy4ucR62iRZj7tan5fjyBlcT-ZqHOhZEXSxGoqEcQ=w800-h400-no)"
   ]
  },
  {
   "cell_type": "code",
   "execution_count": null,
   "metadata": {},
   "outputs": [],
   "source": [
    "numbers_2D = torch.tensor([\n",
    "    [1, 2, 3, 4],\n",
    "    [5, 6, 7, 8]\n",
    "])"
   ]
  },
  {
   "cell_type": "code",
   "execution_count": null,
   "metadata": {},
   "outputs": [],
   "source": [
    "numbers_2D"
   ]
  },
  {
   "cell_type": "code",
   "execution_count": null,
   "metadata": {},
   "outputs": [],
   "source": [
    "numbers_2D.size()"
   ]
  },
  {
   "cell_type": "code",
   "execution_count": null,
   "metadata": {},
   "outputs": [],
   "source": [
    "transposed_numbers_1 = numbers_2D.T"
   ]
  },
  {
   "cell_type": "code",
   "execution_count": null,
   "metadata": {},
   "outputs": [],
   "source": [
    "transposed_numbers_1"
   ]
  },
  {
   "cell_type": "code",
   "execution_count": null,
   "metadata": {},
   "outputs": [],
   "source": [
    "transposed_numbers_1.size()"
   ]
  },
  {
   "cell_type": "code",
   "execution_count": null,
   "metadata": {},
   "outputs": [],
   "source": []
  }
 ],
 "metadata": {
  "kernelspec": {
   "display_name": "Python 3",
   "language": "python",
   "name": "python3"
  },
  "language_info": {
   "codemirror_mode": {
    "name": "ipython",
    "version": 3
   },
   "file_extension": ".py",
   "mimetype": "text/x-python",
   "name": "python",
   "nbconvert_exporter": "python",
   "pygments_lexer": "ipython3",
   "version": "3.7.3"
  }
 },
 "nbformat": 4,
 "nbformat_minor": 4
}
