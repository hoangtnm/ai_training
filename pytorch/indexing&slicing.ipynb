{
 "cells": [
  {
   "cell_type": "markdown",
   "metadata": {},
   "source": [
    "# Indexing và Slicing\n",
    "----\n",
    "\n",
    "Indexing và Slicing are similar to `list` in Python.\n"
   ]
  },
  {
   "cell_type": "markdown",
   "metadata": {},
   "source": [
    "## I. Basic Indexing"
   ]
  },
  {
   "cell_type": "code",
   "execution_count": null,
   "metadata": {},
   "outputs": [],
   "source": [
    "import torch"
   ]
  },
  {
   "cell_type": "code",
   "execution_count": null,
   "metadata": {},
   "outputs": [],
   "source": [
    "number_2D = torch.tensor([[4,5,6], [7, 8, 9]])"
   ]
  },
  {
   "cell_type": "code",
   "execution_count": null,
   "metadata": {},
   "outputs": [],
   "source": [
    "number_2D"
   ]
  },
  {
   "cell_type": "code",
   "execution_count": null,
   "metadata": {},
   "outputs": [],
   "source": [
    "number_2D.size()"
   ]
  },
  {
   "cell_type": "markdown",
   "metadata": {},
   "source": [
    "### 1. Access row"
   ]
  },
  {
   "cell_type": "markdown",
   "metadata": {},
   "source": [
    "#### a. Access the first row of the matrix"
   ]
  },
  {
   "cell_type": "code",
   "execution_count": null,
   "metadata": {},
   "outputs": [],
   "source": [
    "number_2D[0]"
   ]
  },
  {
   "cell_type": "markdown",
   "metadata": {},
   "source": [
    "##### b. Access the last row of the matrix"
   ]
  },
  {
   "cell_type": "code",
   "execution_count": null,
   "metadata": {},
   "outputs": [],
   "source": [
    "number_2D[-1]"
   ]
  },
  {
   "cell_type": "markdown",
   "metadata": {},
   "source": [
    "### 2. Access column"
   ]
  },
  {
   "cell_type": "markdown",
   "metadata": {},
   "source": [
    "#### a. Access the first column of the matrix\n",
    "\n",
    "It is similar to access all rows and pick the first element\n"
   ]
  },
  {
   "cell_type": "code",
   "execution_count": null,
   "metadata": {},
   "outputs": [],
   "source": [
    "number_2D[:, 0]"
   ]
  },
  {
   "cell_type": "markdown",
   "metadata": {},
   "source": [
    "#### b. Access the last column of the matrix"
   ]
  },
  {
   "cell_type": "code",
   "execution_count": null,
   "metadata": {},
   "outputs": [],
   "source": [
    "number_2D[:, -1]"
   ]
  },
  {
   "cell_type": "markdown",
   "metadata": {},
   "source": [
    "#### c. Access custom columns of the matrix"
   ]
  },
  {
   "cell_type": "code",
   "execution_count": null,
   "metadata": {},
   "outputs": [],
   "source": [
    "number_2D[:, 1]"
   ]
  },
  {
   "cell_type": "markdown",
   "metadata": {},
   "source": [
    "#### 3. Access elements"
   ]
  },
  {
   "cell_type": "markdown",
   "metadata": {},
   "source": [
    "#### a. Access the element at the first row and the second column"
   ]
  },
  {
   "cell_type": "markdown",
   "metadata": {},
   "source": [
    "![](https://lh3.googleusercontent.com/hiL24e8ADYL-IxeNWn-5y9IviYq2flpf1QwCYN504gdKlWiLuU7tWVBpeYvoGWhr_st-7azNSuON6s5JOUNWgVISzDFbhbHbCoFK8SUbfYd4oDkwiqIvJu3mlCYOMzXmb6YUkGc86WADp6oYWImqGocnUOEe4MGFgXp3L9YPOhYq6blI_287s3biSbfS3s-WNsa87wCahmJpg9jH_wSpMOfmJJ3H4t3MSVOZKlFbRKLSor6_39zTDgMcAeALi7s_83gaPudasCsmHI-JtfN2XpV0rP0ZOTmrDg3A9SOn3cfEwe0RBtoICJx_YWGIp65lJmvKmIknqZiQCwlTprfa3WhlWhEXTiX1zA4813WxA_xbinSHUEo8dhpf28w0Dei9LzSx6C9mt74KsxqvyUlEomqT3DqZ70z1qk1YIZiDQHTOTFWKYBb5vWeLf6Ep-ro1wR5BjrmzAvl2e0xSUJX-4ojnp8sR4FeGUE4wp0Fl_RcGoB59yGhCbm7LOZHOy6_-eCSuuKkmIDFeRHHs6lYtQX8goRH7NXM7ywV_CsufTIqEdycYKRiipbir0ip2i-zuHp1csvoETgk8Ih5P1-nOnWbwzfSx8GAlvE4asLkuWxnQHyRx_LmoR4nDQbfmpxf_i9rRPf0unLu0e3XL52Zei_VXUIkBz8NbvQ=w445-h222-no)"
   ]
  },
  {
   "cell_type": "code",
   "execution_count": null,
   "metadata": {},
   "outputs": [],
   "source": [
    "awesome[0, 1]"
   ]
  },
  {
   "cell_type": "code",
   "execution_count": null,
   "metadata": {},
   "outputs": [],
   "source": [
    "# It is similar to\n",
    "awesome[0][1]"
   ]
  },
  {
   "cell_type": "markdown",
   "metadata": {},
   "source": [
    "#### b. Access the element of the second row and the the third column"
   ]
  },
  {
   "cell_type": "markdown",
   "metadata": {},
   "source": [
    "![](https://lh3.googleusercontent.com/o8aJwfEiYr0PuhFO2Dd1dj1I9rlvNk-w0OG12Z5a-OpUt0fpMHTO-JejM2ljn5hlZI5DaHY7Hhv_TR5-qPwWtfOyWWBQ2Ut8Iuiy_5ksmC_c2GARBVN-0rpCERKb4Anp2ieUY1R1N4JBWFNFSL3z4V3O55q3-embqrXChbnVMl9VzQFXUKOwTrWn7lYEMOgxNNQElY4nGmfOBFTVc3ZpNGJF968xwvyV2e1W-3v2IGqluN8TDO08euNSek7GsiP7aFhB6LIBKnkiOXYH8rPcpDyUjB2Coc8d4hf0_TQKMoiZA5Xki5meL0IsRZWk1wYTotMSMbr-znGrAKv_pWGFb7ti3eFazkwdavyGr2YKlq3qJsg2cvRpaL76VxKeK4mdu6l3Wj7VpqL2GJWFuE9KsYx7RauzeKN0h2bgIu4sASBmZ8RIhVJMAqZK3hxi9eEl55_StyQZ5WtsKBFSoz6urxqfSGcMPAKEjjl8JDg6jGvyn0uECXMfTgWBUXURGTslauyvQw2RIlt9axMG_mHXgmT5kWSewlZc-68FiFW5igB_ilMOD8Kbfs7J-Uyhtw6jsNzo83cIaVUI8hUGUcHMCEKmYeJA2fhSmflS4BI06vh2GpGswzHrN5Rrb6PA9YFwyw4SbjcDeVMoFLiOxv0aX4LjV4lIk9IYYg=w445-h222-no)"
   ]
  },
  {
   "cell_type": "code",
   "execution_count": null,
   "metadata": {},
   "outputs": [],
   "source": [
    "awesome[1, 2]"
   ]
  },
  {
   "cell_type": "code",
   "execution_count": null,
   "metadata": {},
   "outputs": [],
   "source": [
    "# Tương đương với\n",
    "awesome[1][2]"
   ]
  }
 ],
 "metadata": {
  "kernelspec": {
   "display_name": "Python 3",
   "language": "python",
   "name": "python3"
  },
  "language_info": {
   "codemirror_mode": {
    "name": "ipython",
    "version": 3
   },
   "file_extension": ".py",
   "mimetype": "text/x-python",
   "name": "python",
   "nbconvert_exporter": "python",
   "pygments_lexer": "ipython3",
   "version": "3.7.3"
  }
 },
 "nbformat": 4,
 "nbformat_minor": 4
}
